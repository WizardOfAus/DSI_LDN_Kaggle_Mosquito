{
 "cells": [
  {
   "cell_type": "markdown",
   "metadata": {},
   "source": [
    "### Logbook"
   ]
  },
  {
   "cell_type": "markdown",
   "metadata": {},
   "source": [
    "day3: "
   ]
  },
  {
   "cell_type": "markdown",
   "metadata": {},
   "source": [
    "- problem: different distinct traps in test & train datasets (more in test) solution: we are dropping the Trap feature.\n",
    "- - we are assuming the trap 'identity' in itself adds no information than the one contained in the other features (location, etc.). Caveat: we haven't checked  that first"
   ]
  },
  {
   "cell_type": "markdown",
   "metadata": {},
   "source": [
    "- dropping all locations related columns other than Lat&Long, except that ricky is trying to extract postcode information (just wants to check it adds no value)"
   ]
  },
  {
   "cell_type": "markdown",
   "metadata": {},
   "source": [
    "- assigned rows to weather stations with KNN: we fitted with just the two stations, then we a (we stuck to euclidean distance)"
   ]
  },
  {
   "cell_type": "markdown",
   "metadata": {},
   "source": [
    "- others:\n",
    "- - meaning of AddressAccuracy variable? which one is good, 9 (top) or 3(lowest)? we used the longitudes & latitudes a provided as well as addresses to visualise that. Conclusion, higher value is good, lower is not."
   ]
  },
  {
   "cell_type": "markdown",
   "metadata": {},
   "source": [
    "- EDA: (Wally) uploaded to the main repository my personal copy with additional insights"
   ]
  },
  {
   "cell_type": "code",
   "execution_count": null,
   "metadata": {
    "collapsed": true
   },
   "outputs": [],
   "source": []
  }
 ],
 "metadata": {
  "kernelspec": {
   "display_name": "Python [conda root]",
   "language": "python",
   "name": "conda-root-py"
  },
  "language_info": {
   "codemirror_mode": {
    "name": "ipython",
    "version": 2
   },
   "file_extension": ".py",
   "mimetype": "text/x-python",
   "name": "python",
   "nbconvert_exporter": "python",
   "pygments_lexer": "ipython2",
   "version": "2.7.12"
  }
 },
 "nbformat": 4,
 "nbformat_minor": 1
}
