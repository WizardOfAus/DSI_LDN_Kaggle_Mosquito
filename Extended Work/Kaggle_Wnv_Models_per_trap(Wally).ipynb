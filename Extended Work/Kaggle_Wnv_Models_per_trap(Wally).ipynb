{
 "cells": [
  {
   "cell_type": "code",
   "execution_count": 1,
   "metadata": {
    "collapsed": true
   },
   "outputs": [],
   "source": [
    "import pandas as pd\n",
    "import numpy as np\n",
    "import matplotlib.pyplot as plt\n",
    "import seaborn as sns\n",
    "%matplotlib inline"
   ]
  },
  {
   "cell_type": "code",
   "execution_count": 2,
   "metadata": {
    "collapsed": true
   },
   "outputs": [],
   "source": [
    "pd.set_option(\"display.max_columns\",999)\n",
    "pd.set_option(\"display.max_rows\",999)"
   ]
  },
  {
   "cell_type": "code",
   "execution_count": 3,
   "metadata": {
    "collapsed": false
   },
   "outputs": [
    {
     "data": {
      "text/html": [
       "<div>\n",
       "<table border=\"1\" class=\"dataframe\">\n",
       "  <thead>\n",
       "    <tr style=\"text-align: right;\">\n",
       "      <th></th>\n",
       "      <th>Date</th>\n",
       "      <th>Address</th>\n",
       "      <th>Species</th>\n",
       "      <th>Block</th>\n",
       "      <th>Street</th>\n",
       "      <th>Trap</th>\n",
       "      <th>AddressNumberAndStreet</th>\n",
       "      <th>Latitude</th>\n",
       "      <th>Longitude</th>\n",
       "      <th>AddressAccuracy</th>\n",
       "      <th>NumMosquitos</th>\n",
       "      <th>WnvPresent</th>\n",
       "    </tr>\n",
       "  </thead>\n",
       "  <tbody>\n",
       "    <tr>\n",
       "      <th>0</th>\n",
       "      <td>2007-05-29</td>\n",
       "      <td>4100 North Oak Park Avenue, Chicago, IL 60634,...</td>\n",
       "      <td>CULEX PIPIENS/RESTUANS</td>\n",
       "      <td>41</td>\n",
       "      <td>N OAK PARK AVE</td>\n",
       "      <td>T002</td>\n",
       "      <td>4100  N OAK PARK AVE, Chicago, IL</td>\n",
       "      <td>41.95469</td>\n",
       "      <td>-87.800991</td>\n",
       "      <td>9</td>\n",
       "      <td>1</td>\n",
       "      <td>0</td>\n",
       "    </tr>\n",
       "    <tr>\n",
       "      <th>1</th>\n",
       "      <td>2007-05-29</td>\n",
       "      <td>4100 North Oak Park Avenue, Chicago, IL 60634,...</td>\n",
       "      <td>CULEX RESTUANS</td>\n",
       "      <td>41</td>\n",
       "      <td>N OAK PARK AVE</td>\n",
       "      <td>T002</td>\n",
       "      <td>4100  N OAK PARK AVE, Chicago, IL</td>\n",
       "      <td>41.95469</td>\n",
       "      <td>-87.800991</td>\n",
       "      <td>9</td>\n",
       "      <td>1</td>\n",
       "      <td>0</td>\n",
       "    </tr>\n",
       "  </tbody>\n",
       "</table>\n",
       "</div>"
      ],
      "text/plain": [
       "         Date                                            Address  \\\n",
       "0  2007-05-29  4100 North Oak Park Avenue, Chicago, IL 60634,...   \n",
       "1  2007-05-29  4100 North Oak Park Avenue, Chicago, IL 60634,...   \n",
       "\n",
       "                  Species  Block           Street  Trap  \\\n",
       "0  CULEX PIPIENS/RESTUANS     41   N OAK PARK AVE  T002   \n",
       "1          CULEX RESTUANS     41   N OAK PARK AVE  T002   \n",
       "\n",
       "              AddressNumberAndStreet  Latitude  Longitude  AddressAccuracy  \\\n",
       "0  4100  N OAK PARK AVE, Chicago, IL  41.95469 -87.800991                9   \n",
       "1  4100  N OAK PARK AVE, Chicago, IL  41.95469 -87.800991                9   \n",
       "\n",
       "   NumMosquitos  WnvPresent  \n",
       "0             1           0  \n",
       "1             1           0  "
      ]
     },
     "execution_count": 3,
     "metadata": {},
     "output_type": "execute_result"
    }
   ],
   "source": [
    "train = pd.read_csv('train.csv')\n",
    "train.head(2)"
   ]
  },
  {
   "cell_type": "code",
   "execution_count": 4,
   "metadata": {
    "collapsed": false
   },
   "outputs": [],
   "source": [
    "test = pd.read_csv('test.csv')"
   ]
  },
  {
   "cell_type": "code",
   "execution_count": 5,
   "metadata": {
    "collapsed": true
   },
   "outputs": [],
   "source": [
    "weather = pd.read_csv('weather.csv')"
   ]
  },
  {
   "cell_type": "markdown",
   "metadata": {},
   "source": [
    "Date"
   ]
  },
  {
   "cell_type": "code",
   "execution_count": 6,
   "metadata": {
    "collapsed": false
   },
   "outputs": [],
   "source": [
    "train.Date = pd.to_datetime(train.Date)\n",
    "test.Date = pd.to_datetime(test.Date)"
   ]
  },
  {
   "cell_type": "code",
   "execution_count": 7,
   "metadata": {
    "collapsed": true
   },
   "outputs": [],
   "source": [
    "weather.Date = pd.to_datetime(weather.Date)"
   ]
  },
  {
   "cell_type": "markdown",
   "metadata": {},
   "source": [
    "Trying KNN without CodeSum & using Traps before location"
   ]
  },
  {
   "cell_type": "code",
   "execution_count": 8,
   "metadata": {
    "collapsed": false
   },
   "outputs": [],
   "source": [
    "weather_data = weather.drop([\"SnowFall\",\"Water1\", \"Depth\", \"WetBulb\", \"DewPoint\", \"Sunrise\", \"Sunset\", \"CodeSum\"], axis=1)\n",
    "weather_data[\"Day_of_year\"] = weather_data.Date.apply(lambda c:c.dayofyear)"
   ]
  },
  {
   "cell_type": "code",
   "execution_count": 9,
   "metadata": {
    "collapsed": false
   },
   "outputs": [
    {
     "data": {
      "text/html": [
       "<div>\n",
       "<table border=\"1\" class=\"dataframe\">\n",
       "  <thead>\n",
       "    <tr style=\"text-align: right;\">\n",
       "      <th></th>\n",
       "      <th>Station</th>\n",
       "      <th>Date</th>\n",
       "      <th>Tmax</th>\n",
       "      <th>Tmin</th>\n",
       "      <th>Tavg</th>\n",
       "      <th>Depart</th>\n",
       "      <th>Heat</th>\n",
       "      <th>Cool</th>\n",
       "      <th>PrecipTotal</th>\n",
       "      <th>StnPressure</th>\n",
       "      <th>SeaLevel</th>\n",
       "      <th>ResultSpeed</th>\n",
       "      <th>ResultDir</th>\n",
       "      <th>AvgSpeed</th>\n",
       "      <th>Day_of_year</th>\n",
       "    </tr>\n",
       "  </thead>\n",
       "  <tbody>\n",
       "    <tr>\n",
       "      <th>0</th>\n",
       "      <td>1</td>\n",
       "      <td>2007-05-01</td>\n",
       "      <td>83</td>\n",
       "      <td>50</td>\n",
       "      <td>67</td>\n",
       "      <td>14</td>\n",
       "      <td>0</td>\n",
       "      <td>2</td>\n",
       "      <td>0.00</td>\n",
       "      <td>29.10</td>\n",
       "      <td>29.82</td>\n",
       "      <td>1.7</td>\n",
       "      <td>27</td>\n",
       "      <td>9.2</td>\n",
       "      <td>121</td>\n",
       "    </tr>\n",
       "    <tr>\n",
       "      <th>1</th>\n",
       "      <td>2</td>\n",
       "      <td>2007-05-01</td>\n",
       "      <td>84</td>\n",
       "      <td>52</td>\n",
       "      <td>68</td>\n",
       "      <td>M</td>\n",
       "      <td>0</td>\n",
       "      <td>3</td>\n",
       "      <td>0.00</td>\n",
       "      <td>29.18</td>\n",
       "      <td>29.82</td>\n",
       "      <td>2.7</td>\n",
       "      <td>25</td>\n",
       "      <td>9.6</td>\n",
       "      <td>121</td>\n",
       "    </tr>\n",
       "  </tbody>\n",
       "</table>\n",
       "</div>"
      ],
      "text/plain": [
       "   Station       Date  Tmax  Tmin Tavg Depart Heat Cool PrecipTotal  \\\n",
       "0        1 2007-05-01    83    50   67     14    0    2        0.00   \n",
       "1        2 2007-05-01    84    52   68      M    0    3        0.00   \n",
       "\n",
       "  StnPressure SeaLevel  ResultSpeed  ResultDir AvgSpeed  Day_of_year  \n",
       "0       29.10    29.82          1.7         27      9.2          121  \n",
       "1       29.18    29.82          2.7         25      9.6          121  "
      ]
     },
     "execution_count": 9,
     "metadata": {},
     "output_type": "execute_result"
    }
   ],
   "source": [
    "weather_data.head(2)"
   ]
  },
  {
   "cell_type": "code",
   "execution_count": 10,
   "metadata": {
    "collapsed": true
   },
   "outputs": [],
   "source": [
    "def validated_value(series): #temp code\n",
    "    listy = list(series)\n",
    "    try: \n",
    "        validated_value = float(listy[0])\n",
    "        return validated_value\n",
    "    except:\n",
    "        try:\n",
    "            validated_value = float(listy[1])\n",
    "            return validated_value\n",
    "        except: \n",
    "            return listy[0]"
   ]
  },
  {
   "cell_type": "code",
   "execution_count": 11,
   "metadata": {
    "collapsed": false
   },
   "outputs": [],
   "source": [
    "weather_data_filt1 = weather_data.pivot_table(index=\"Date\", aggfunc=validated_value)"
   ]
  },
  {
   "cell_type": "code",
   "execution_count": 12,
   "metadata": {
    "collapsed": false
   },
   "outputs": [
    {
     "data": {
      "text/html": [
       "<div>\n",
       "<table border=\"1\" class=\"dataframe\">\n",
       "  <thead>\n",
       "    <tr style=\"text-align: right;\">\n",
       "      <th></th>\n",
       "      <th>AvgSpeed</th>\n",
       "      <th>Cool</th>\n",
       "      <th>Day_of_year</th>\n",
       "      <th>Depart</th>\n",
       "      <th>Heat</th>\n",
       "      <th>PrecipTotal</th>\n",
       "      <th>ResultDir</th>\n",
       "      <th>ResultSpeed</th>\n",
       "      <th>SeaLevel</th>\n",
       "      <th>Station</th>\n",
       "      <th>StnPressure</th>\n",
       "      <th>Tavg</th>\n",
       "      <th>Tmax</th>\n",
       "      <th>Tmin</th>\n",
       "    </tr>\n",
       "    <tr>\n",
       "      <th>Date</th>\n",
       "      <th></th>\n",
       "      <th></th>\n",
       "      <th></th>\n",
       "      <th></th>\n",
       "      <th></th>\n",
       "      <th></th>\n",
       "      <th></th>\n",
       "      <th></th>\n",
       "      <th></th>\n",
       "      <th></th>\n",
       "      <th></th>\n",
       "      <th></th>\n",
       "      <th></th>\n",
       "      <th></th>\n",
       "    </tr>\n",
       "  </thead>\n",
       "  <tbody>\n",
       "    <tr>\n",
       "      <th>2013-08-10</th>\n",
       "      <td>6.5</td>\n",
       "      <td>8.0</td>\n",
       "      <td>222</td>\n",
       "      <td>0.0</td>\n",
       "      <td>0.0</td>\n",
       "      <td>0</td>\n",
       "      <td>5</td>\n",
       "      <td>5.3</td>\n",
       "      <td>30.08</td>\n",
       "      <td>1</td>\n",
       "      <td>M</td>\n",
       "      <td>73.0</td>\n",
       "      <td>81</td>\n",
       "      <td>64</td>\n",
       "    </tr>\n",
       "  </tbody>\n",
       "</table>\n",
       "</div>"
      ],
      "text/plain": [
       "            AvgSpeed  Cool  Day_of_year  Depart  Heat PrecipTotal  ResultDir  \\\n",
       "Date                                                                           \n",
       "2013-08-10       6.5   8.0          222     0.0   0.0           0          5   \n",
       "\n",
       "            ResultSpeed  SeaLevel  Station StnPressure  Tavg  Tmax  Tmin  \n",
       "Date                                                                      \n",
       "2013-08-10          5.3     30.08        1           M  73.0    81    64  "
      ]
     },
     "execution_count": 12,
     "metadata": {},
     "output_type": "execute_result"
    }
   ],
   "source": [
    "weather_data_filt1[weather_data_filt1.StnPressure==\"M\"]"
   ]
  },
  {
   "cell_type": "markdown",
   "metadata": {},
   "source": [
    "_I fill in the missing value (M) looking at the trend_"
   ]
  },
  {
   "cell_type": "code",
   "execution_count": 13,
   "metadata": {
    "collapsed": false
   },
   "outputs": [],
   "source": [
    "for_obs = weather_data_filt1[(weather_data_filt1.index >= \"2013\") & (weather_data_filt1.index < \"2014\")]"
   ]
  },
  {
   "cell_type": "code",
   "execution_count": 14,
   "metadata": {
    "collapsed": false
   },
   "outputs": [
    {
     "data": {
      "text/plain": [
       "[]"
      ]
     },
     "execution_count": 14,
     "metadata": {},
     "output_type": "execute_result"
    },
    {
     "data": {
      "image/png": "[encoded data removed]",
      "text/plain": [
       "<matplotlib.figure.Figure at 0x114d59510>"
      ]
     },
     "metadata": {},
     "output_type": "display_data"
    }
   ],
   "source": [
    "plt.figure(figsize=(70,10))\n",
    "plt.plot_date(for_obs[for_obs.StnPressure!=\"M\"].index, for_obs[for_obs.StnPressure!=\"M\"].StnPressure)\n",
    "plt.xticks(for_obs.index, for_obs[\"Day_of_year\"])\n",
    "plt.plot()"
   ]
  },
  {
   "cell_type": "code",
   "execution_count": 15,
   "metadata": {
    "collapsed": false
   },
   "outputs": [],
   "source": [
    "weather_data_filt1.loc[\"2013-08-10\",\"StnPressure\"]=29.28"
   ]
  },
  {
   "cell_type": "code",
   "execution_count": 16,
   "metadata": {
    "collapsed": false
   },
   "outputs": [],
   "source": [
    "weather_data_filt1['StnPressure']=weather_data_filt1.StnPressure.astype(float)"
   ]
  },
  {
   "cell_type": "markdown",
   "metadata": {},
   "source": [
    "_Dealing with T values (T=Trace)_"
   ]
  },
  {
   "cell_type": "code",
   "execution_count": 17,
   "metadata": {
    "collapsed": false
   },
   "outputs": [
    {
     "data": {
      "text/plain": [
       "6.86"
      ]
     },
     "execution_count": 17,
     "metadata": {},
     "output_type": "execute_result"
    }
   ],
   "source": [
    "max(weather_data_filt1[(weather_data_filt1.PrecipTotal.apply(lambda x:type(x)!=str)) &(weather_data_filt1.PrecipTotal>0)].PrecipTotal.values)"
   ]
  },
  {
   "cell_type": "code",
   "execution_count": 18,
   "metadata": {
    "collapsed": false
   },
   "outputs": [
    {
     "data": {
      "text/plain": [
       "0.01"
      ]
     },
     "execution_count": 18,
     "metadata": {},
     "output_type": "execute_result"
    }
   ],
   "source": [
    "min(weather_data_filt1[(weather_data_filt1.PrecipTotal.apply(lambda x:type(x)!=str)) &(weather_data_filt1.PrecipTotal>0)].PrecipTotal.values)"
   ]
  },
  {
   "cell_type": "markdown",
   "metadata": {},
   "source": [
    "Arbitrarily, I'll replace \"Trace\" with 0.001"
   ]
  },
  {
   "cell_type": "code",
   "execution_count": 19,
   "metadata": {
    "collapsed": false
   },
   "outputs": [],
   "source": [
    "for date in weather_data_filt1.index:\n",
    "    if type(weather_data_filt1.loc[date,\"PrecipTotal\"]) != float:\n",
    "        weather_data_filt1.loc[date,\"PrecipTotal\"]=0.001"
   ]
  },
  {
   "cell_type": "code",
   "execution_count": 20,
   "metadata": {
    "collapsed": false
   },
   "outputs": [],
   "source": [
    "weather_data_filt1[\"PrecipTotal\"]=weather_data_filt1.PrecipTotal.astype(float)"
   ]
  },
  {
   "cell_type": "markdown",
   "metadata": {},
   "source": [
    "-"
   ]
  },
  {
   "cell_type": "code",
   "execution_count": 21,
   "metadata": {
    "collapsed": false
   },
   "outputs": [
    {
     "name": "stdout",
     "output_type": "stream",
     "text": [
      "<class 'pandas.core.frame.DataFrame'>\n",
      "DatetimeIndex: 1472 entries, 2007-05-01 to 2014-10-31\n",
      "Data columns (total 14 columns):\n",
      "AvgSpeed       1472 non-null float64\n",
      "Cool           1472 non-null float64\n",
      "Day_of_year    1472 non-null int64\n",
      "Depart         1472 non-null float64\n",
      "Heat           1472 non-null float64\n",
      "PrecipTotal    1472 non-null float64\n",
      "ResultDir      1472 non-null int64\n",
      "ResultSpeed    1472 non-null float64\n",
      "SeaLevel       1472 non-null float64\n",
      "Station        1472 non-null int64\n",
      "StnPressure    1472 non-null float64\n",
      "Tavg           1472 non-null float64\n",
      "Tmax           1472 non-null int64\n",
      "Tmin           1472 non-null int64\n",
      "dtypes: float64(9), int64(5)\n",
      "memory usage: 172.5 KB\n"
     ]
    }
   ],
   "source": [
    "weather_data_filt1.info()"
   ]
  },
  {
   "cell_type": "markdown",
   "metadata": {},
   "source": [
    "-"
   ]
  },
  {
   "cell_type": "markdown",
   "metadata": {},
   "source": [
    "First Model Attempts"
   ]
  },
  {
   "cell_type": "code",
   "execution_count": 22,
   "metadata": {
    "collapsed": false
   },
   "outputs": [
    {
     "name": "stderr",
     "output_type": "stream",
     "text": [
      "//anaconda/lib/python2.7/site-packages/sklearn/cross_validation.py:44: DeprecationWarning: This module was deprecated in version 0.18 in favor of the model_selection module into which all the refactored classes and functions are moved. Also note that the interface of the new CV iterators are different from that of this module. This module will be removed in 0.20.\n",
      "  \"This module will be removed in 0.20.\", DeprecationWarning)\n",
      "//anaconda/lib/python2.7/site-packages/sklearn/grid_search.py:43: DeprecationWarning: This module was deprecated in version 0.18 in favor of the model_selection module into which all the refactored classes and functions are moved. This module will be removed in 0.20.\n",
      "  DeprecationWarning)\n"
     ]
    }
   ],
   "source": [
    "from sklearn.preprocessing import StandardScaler\n",
    "from sklearn.metrics import roc_auc_score\n",
    "from sklearn.neighbors import KNeighborsClassifier\n",
    "from sklearn.model_selection import cross_val_score\n",
    "from sklearn.grid_search import GridSearchCV"
   ]
  },
  {
   "cell_type": "code",
   "execution_count": 23,
   "metadata": {
    "collapsed": false
   },
   "outputs": [],
   "source": [
    "weather_data_filt1.drop(\"Station\", axis=1, inplace=True)"
   ]
  },
  {
   "cell_type": "code",
   "execution_count": 32,
   "metadata": {
    "collapsed": false
   },
   "outputs": [],
   "source": [
    "train_and_weather = train.merge(weather_data_filt1, left_on = 'Date', right_index=True, how='inner')\n",
    "test_and_weather = test.merge(weather_data_filt1, left_on = 'Date', right_index=True, how='inner')"
   ]
  },
  {
   "cell_type": "code",
   "execution_count": 25,
   "metadata": {
    "collapsed": false
   },
   "outputs": [],
   "source": [
    "train_and_weather_ = train_and_weather.drop([\"AddressAccuracy\",\"NumMosquitos\",\"Date\",\"Address\",\"Block\",\"Street\",\"AddressNumberAndStreet\"], axis=1)"
   ]
  },
  {
   "cell_type": "code",
   "execution_count": 33,
   "metadata": {
    "collapsed": true
   },
   "outputs": [],
   "source": [
    "test_and_weather_ = test_and_weather.drop([\"AddressAccuracy\",\"Date\",\"Address\",\"Block\",\"Street\",\"AddressNumberAndStreet\"], axis=1)"
   ]
  },
  {
   "cell_type": "code",
   "execution_count": 26,
   "metadata": {
    "collapsed": false
   },
   "outputs": [
    {
     "data": {
      "text/html": [
       "<div>\n",
       "<table border=\"1\" class=\"dataframe\">\n",
       "  <thead>\n",
       "    <tr style=\"text-align: right;\">\n",
       "      <th></th>\n",
       "      <th>Species</th>\n",
       "      <th>Trap</th>\n",
       "      <th>Latitude</th>\n",
       "      <th>Longitude</th>\n",
       "      <th>WnvPresent</th>\n",
       "      <th>AvgSpeed</th>\n",
       "      <th>Cool</th>\n",
       "      <th>Day_of_year</th>\n",
       "      <th>Depart</th>\n",
       "      <th>Heat</th>\n",
       "      <th>PrecipTotal</th>\n",
       "      <th>ResultDir</th>\n",
       "      <th>ResultSpeed</th>\n",
       "      <th>SeaLevel</th>\n",
       "      <th>StnPressure</th>\n",
       "      <th>Tavg</th>\n",
       "      <th>Tmax</th>\n",
       "      <th>Tmin</th>\n",
       "    </tr>\n",
       "  </thead>\n",
       "  <tbody>\n",
       "    <tr>\n",
       "      <th>0</th>\n",
       "      <td>CULEX PIPIENS/RESTUANS</td>\n",
       "      <td>T002</td>\n",
       "      <td>41.954690</td>\n",
       "      <td>-87.800991</td>\n",
       "      <td>0</td>\n",
       "      <td>6.5</td>\n",
       "      <td>9.0</td>\n",
       "      <td>149</td>\n",
       "      <td>10.0</td>\n",
       "      <td>0.0</td>\n",
       "      <td>0.0</td>\n",
       "      <td>18</td>\n",
       "      <td>5.8</td>\n",
       "      <td>30.11</td>\n",
       "      <td>29.39</td>\n",
       "      <td>74.0</td>\n",
       "      <td>88</td>\n",
       "      <td>60</td>\n",
       "    </tr>\n",
       "    <tr>\n",
       "      <th>1</th>\n",
       "      <td>CULEX RESTUANS</td>\n",
       "      <td>T002</td>\n",
       "      <td>41.954690</td>\n",
       "      <td>-87.800991</td>\n",
       "      <td>0</td>\n",
       "      <td>6.5</td>\n",
       "      <td>9.0</td>\n",
       "      <td>149</td>\n",
       "      <td>10.0</td>\n",
       "      <td>0.0</td>\n",
       "      <td>0.0</td>\n",
       "      <td>18</td>\n",
       "      <td>5.8</td>\n",
       "      <td>30.11</td>\n",
       "      <td>29.39</td>\n",
       "      <td>74.0</td>\n",
       "      <td>88</td>\n",
       "      <td>60</td>\n",
       "    </tr>\n",
       "    <tr>\n",
       "      <th>2</th>\n",
       "      <td>CULEX RESTUANS</td>\n",
       "      <td>T007</td>\n",
       "      <td>41.994991</td>\n",
       "      <td>-87.769279</td>\n",
       "      <td>0</td>\n",
       "      <td>6.5</td>\n",
       "      <td>9.0</td>\n",
       "      <td>149</td>\n",
       "      <td>10.0</td>\n",
       "      <td>0.0</td>\n",
       "      <td>0.0</td>\n",
       "      <td>18</td>\n",
       "      <td>5.8</td>\n",
       "      <td>30.11</td>\n",
       "      <td>29.39</td>\n",
       "      <td>74.0</td>\n",
       "      <td>88</td>\n",
       "      <td>60</td>\n",
       "    </tr>\n",
       "    <tr>\n",
       "      <th>3</th>\n",
       "      <td>CULEX PIPIENS/RESTUANS</td>\n",
       "      <td>T015</td>\n",
       "      <td>41.974089</td>\n",
       "      <td>-87.824812</td>\n",
       "      <td>0</td>\n",
       "      <td>6.5</td>\n",
       "      <td>9.0</td>\n",
       "      <td>149</td>\n",
       "      <td>10.0</td>\n",
       "      <td>0.0</td>\n",
       "      <td>0.0</td>\n",
       "      <td>18</td>\n",
       "      <td>5.8</td>\n",
       "      <td>30.11</td>\n",
       "      <td>29.39</td>\n",
       "      <td>74.0</td>\n",
       "      <td>88</td>\n",
       "      <td>60</td>\n",
       "    </tr>\n",
       "    <tr>\n",
       "      <th>4</th>\n",
       "      <td>CULEX RESTUANS</td>\n",
       "      <td>T015</td>\n",
       "      <td>41.974089</td>\n",
       "      <td>-87.824812</td>\n",
       "      <td>0</td>\n",
       "      <td>6.5</td>\n",
       "      <td>9.0</td>\n",
       "      <td>149</td>\n",
       "      <td>10.0</td>\n",
       "      <td>0.0</td>\n",
       "      <td>0.0</td>\n",
       "      <td>18</td>\n",
       "      <td>5.8</td>\n",
       "      <td>30.11</td>\n",
       "      <td>29.39</td>\n",
       "      <td>74.0</td>\n",
       "      <td>88</td>\n",
       "      <td>60</td>\n",
       "    </tr>\n",
       "  </tbody>\n",
       "</table>\n",
       "</div>"
      ],
      "text/plain": [
       "                  Species  Trap   Latitude  Longitude  WnvPresent  AvgSpeed  \\\n",
       "0  CULEX PIPIENS/RESTUANS  T002  41.954690 -87.800991           0       6.5   \n",
       "1          CULEX RESTUANS  T002  41.954690 -87.800991           0       6.5   \n",
       "2          CULEX RESTUANS  T007  41.994991 -87.769279           0       6.5   \n",
       "3  CULEX PIPIENS/RESTUANS  T015  41.974089 -87.824812           0       6.5   \n",
       "4          CULEX RESTUANS  T015  41.974089 -87.824812           0       6.5   \n",
       "\n",
       "   Cool  Day_of_year  Depart  Heat  PrecipTotal  ResultDir  ResultSpeed  \\\n",
       "0   9.0          149    10.0   0.0          0.0         18          5.8   \n",
       "1   9.0          149    10.0   0.0          0.0         18          5.8   \n",
       "2   9.0          149    10.0   0.0          0.0         18          5.8   \n",
       "3   9.0          149    10.0   0.0          0.0         18          5.8   \n",
       "4   9.0          149    10.0   0.0          0.0         18          5.8   \n",
       "\n",
       "   SeaLevel  StnPressure  Tavg  Tmax  Tmin  \n",
       "0     30.11        29.39  74.0    88    60  \n",
       "1     30.11        29.39  74.0    88    60  \n",
       "2     30.11        29.39  74.0    88    60  \n",
       "3     30.11        29.39  74.0    88    60  \n",
       "4     30.11        29.39  74.0    88    60  "
      ]
     },
     "execution_count": 26,
     "metadata": {},
     "output_type": "execute_result"
    }
   ],
   "source": [
    "train_and_weather_.head()"
   ]
  },
  {
   "cell_type": "markdown",
   "metadata": {},
   "source": [
    "First Trap & Species"
   ]
  },
  {
   "cell_type": "code",
   "execution_count": 83,
   "metadata": {
    "collapsed": false
   },
   "outputs": [],
   "source": [
    "#Scaling. (I scale by trap, but not by species due to numbers difference for rare ones)\n",
    "scaler = StandardScaler().fit(train_and_weather_[(train_and_weather_.Trap==\"T002\")].drop([\"Species\",\n",
    "                                                                                          \"Trap\",\n",
    "                                                                                          \"Latitude\", \n",
    "                                                                                          \"Longitude\",\n",
    "                                                                                          \"WnvPresent\"], axis=1))"
   ]
  },
  {
   "cell_type": "code",
   "execution_count": 84,
   "metadata": {
    "collapsed": false
   },
   "outputs": [],
   "source": [
    "first_training_data_ = train_and_weather_[(train_and_weather_.Species==\"CULEX PIPIENS\") \n",
    "                                          & (train_and_weather_.Trap==\"T002\")].copy().reset_index(drop=True)\n",
    "first_training_data_.drop([\"Species\",\"Trap\",\"Latitude\", \"Longitude\"], axis=1, inplace=True)"
   ]
  },
  {
   "cell_type": "code",
   "execution_count": 85,
   "metadata": {
    "collapsed": false
   },
   "outputs": [],
   "source": [
    "std_Xtrain = scaler.transform(first_training_data_.drop(\"WnvPresent\", axis=1))\n",
    "#std_Xtest = scaler.transform...\n",
    "\n",
    "y = first_training_data_['WnvPresent']"
   ]
  },
  {
   "cell_type": "code",
   "execution_count": 89,
   "metadata": {
    "collapsed": false
   },
   "outputs": [
    {
     "name": "stdout",
     "output_type": "stream",
     "text": [
      "0.591822094692\n",
      "{'n_neighbors': 14}\n"
     ]
    }
   ],
   "source": [
    "for max in reversed(range(1,len(y))):\n",
    "    try:\n",
    "        params = {'n_neighbors':range(1,max)}\n",
    "        clf_knn= KNeighborsClassifier()\n",
    "        clf = GridSearchCV(clf_knn, params, cv=2, scoring='roc_auc')\n",
    "        model = clf.fit(std_Xtrain,y)\n",
    "        break\n",
    "    except:\n",
    "        continue\n",
    "    \n",
    "print model.best_score_\n",
    "print model.best_params_"
   ]
  },
  {
   "cell_type": "markdown",
   "metadata": {},
   "source": [
    "Generalisation"
   ]
  },
  {
   "cell_type": "code",
   "execution_count": 27,
   "metadata": {
    "collapsed": true
   },
   "outputs": [],
   "source": [
    "train_w_preds= train_and_weather_.copy()"
   ]
  },
  {
   "cell_type": "code",
   "execution_count": 68,
   "metadata": {
    "collapsed": false
   },
   "outputs": [
    {
     "name": "stderr",
     "output_type": "stream",
     "text": [
      "//anaconda/lib/python2.7/site-packages/sklearn/cross_validation.py:552: Warning: The least populated class in y has only 1 members, which is too few. The minimum number of labels for any class cannot be less than n_folds=2.\n",
      "  % (min_labels, self.n_folds)), Warning)\n"
     ]
    }
   ],
   "source": [
    "for trap in train_and_weather_[\"Trap\"].unique():\n",
    "    scaler = StandardScaler().fit(train_and_weather_[(train_and_weather_.Trap==trap)].drop([\"Species\",\n",
    "                                                                                              \"Trap\",\n",
    "                                                                                              \"Latitude\", \n",
    "                                                                                              \"Longitude\",\n",
    "                                                                                              \"WnvPresent\"], axis=1))\n",
    "\n",
    "    for species in train_and_weather_[\"Species\"].unique():\n",
    "        training_data_ = train_and_weather_[(train_and_weather_.Species==species) \n",
    "                                                  & (train_and_weather_.Trap==trap)].copy().reset_index(drop=True)\n",
    "        if training_data_.shape[0]==0:\n",
    "            # give prediction of 0, then\n",
    "            continue\n",
    "        \n",
    "        else:\n",
    "            training_data_.drop([\"Species\",\"Trap\",\"Latitude\", \"Longitude\"], axis=1, inplace=True)\n",
    "     \n",
    "            std_Xtrain = scaler.transform(training_data_.drop(\"WnvPresent\", axis=1))\n",
    "            #std_Xtest = scaler.transform...\n",
    "            y = training_data_['WnvPresent']\n",
    "\n",
    "            for max in reversed(range(1,len(y))):\n",
    "                try:\n",
    "                    params = {'n_neighbors':range(1,max)}\n",
    "                    clf_knn= KNeighborsClassifier()\n",
    "                    clf = GridSearchCV(clf_knn, params, cv=2, scoring='accuracy')\n",
    "                    model = clf.fit(std_Xtrain,y)\n",
    "                    break\n",
    "                except:\n",
    "                    continue\n",
    "\n",
    "            predictions = model.predict(std_Xtrain)\n",
    "            train_w_preds.loc[(train_w_preds.Species==species) \n",
    "                                                  & (train_w_preds.Trap==trap),\"Pred\"]=predictions\n"
   ]
  },
  {
   "cell_type": "markdown",
   "metadata": {},
   "source": [
    "Evaluating the model with the training data"
   ]
  },
  {
   "cell_type": "code",
   "execution_count": 70,
   "metadata": {
    "collapsed": false
   },
   "outputs": [],
   "source": [
    "\"\"\"train_w_preds.to_csv('train_w_AUCpreds.csv')\"\"\""
   ]
  },
  {
   "cell_type": "code",
   "execution_count": 79,
   "metadata": {
    "collapsed": true
   },
   "outputs": [],
   "source": [
    "from sklearn.metrics import confusion_matrix\n",
    "from sklearn.metrics import roc_auc_score"
   ]
  },
  {
   "cell_type": "code",
   "execution_count": 76,
   "metadata": {
    "collapsed": false
   },
   "outputs": [
    {
     "data": {
      "text/plain": [
       "0    9955\n",
       "1     551\n",
       "Name: WnvPresent, dtype: int64"
      ]
     },
     "execution_count": 76,
     "metadata": {},
     "output_type": "execute_result"
    }
   ],
   "source": [
    "train_w_preds.WnvPresent.value_counts()"
   ]
  },
  {
   "cell_type": "code",
   "execution_count": 77,
   "metadata": {
    "collapsed": false
   },
   "outputs": [
    {
     "data": {
      "text/plain": [
       "0.0    10260\n",
       "1.0      246\n",
       "Name: Pred, dtype: int64"
      ]
     },
     "execution_count": 77,
     "metadata": {},
     "output_type": "execute_result"
    }
   ],
   "source": [
    "train_w_preds.Pred.value_counts()"
   ]
  },
  {
   "cell_type": "code",
   "execution_count": 82,
   "metadata": {
    "collapsed": false
   },
   "outputs": [
    {
     "data": {
      "text/plain": [
       "array([[9770,  185],\n",
       "       [ 490,   61]])"
      ]
     },
     "execution_count": 82,
     "metadata": {},
     "output_type": "execute_result"
    }
   ],
   "source": [
    "confusion_matrix(train_w_preds.WnvPresent, train_w_preds.Pred)"
   ]
  },
  {
   "cell_type": "code",
   "execution_count": 80,
   "metadata": {
    "collapsed": false
   },
   "outputs": [
    {
     "data": {
      "text/plain": [
       "0.54606208883715379"
      ]
     },
     "execution_count": 80,
     "metadata": {},
     "output_type": "execute_result"
    }
   ],
   "source": [
    "roc_auc_score(train_w_preds.WnvPresent, train_w_preds.Pred)"
   ]
  },
  {
   "cell_type": "markdown",
   "metadata": {},
   "source": [
    "for traps not in the train document, try using KNN to replace them with the closest trap.\n",
    "for UNSPECIFIED CULEX, can use boolean indexing to fill with 0 (or prior probability of the least frequent species, if I get to the probability stage...)"
   ]
  },
  {
   "cell_type": "code",
   "execution_count": null,
   "metadata": {
    "collapsed": false
   },
   "outputs": [],
   "source": [
    "\"\"\"obs_table = pd.DataFrame(columns = [\"Trap\",\"Species\",\"best_score\",\"Number_of_Neighbours\"])\n",
    "\n",
    "for trap in train_and_weather_[\"Trap\"].unique():\n",
    "    scaler = StandardScaler().fit(train_and_weather_[(train_and_weather_.Trap==trap)].drop([\"Species\",\n",
    "                                                                                              \"Trap\",\n",
    "                                                                                              \"Latitude\", \n",
    "                                                                                              \"Longitude\",\n",
    "                                                                                              \"WnvPresent\"], axis=1))\n",
    "\n",
    "    for species in train_and_weather_[\"Species\"].unique():\n",
    "        training_data_ = train_and_weather_[(train_and_weather_.Species==species) \n",
    "                                                  & (train_and_weather_.Trap==trap)].copy().reset_index(drop=True)\n",
    "        training_data_.drop([\"Species\",\"Trap\",\"Latitude\", \"Longitude\"], axis=1, inplace=True)\n",
    "\n",
    "        obs_table = obs_table.append({\"Trap\":trap, \"Species\":species}, ignore_index=True)\n",
    "        if training_data_.shape[0]>0:\n",
    "            std_Xtrain = scaler.transform(training_data_.drop(\"WnvPresent\", axis=1))\n",
    "            #std_Xtest = scaler.transform...\n",
    "\n",
    "            y = training_data_['WnvPresent']\n",
    "\n",
    "            for max in reversed(range(1,len(y))):\n",
    "                try:\n",
    "                    params = {'n_neighbors':range(1,max)}\n",
    "                    clf_knn= KNeighborsClassifier()\n",
    "                    clf = GridSearchCV(clf_knn, params, cv=2, scoring='roc_auc')\n",
    "                    model = clf.fit(std_Xtrain,y)\n",
    "                    break\n",
    "                except:\n",
    "                    continue\n",
    "\n",
    "            obs_table.loc[(obs_table[\"Trap\"]==trap) & (obs_table[\"Species\"]==species),\"best_score\"]=model.best_score_\n",
    "            obs_table.loc[(obs_table[\"Trap\"]==trap) & (obs_table[\"Species\"]==species),\"Number_of_Neighbours\"]=model.best_params_\n",
    "\n",
    "        else:\n",
    "            continue\"\"\""
   ]
  },
  {
   "cell_type": "markdown",
   "metadata": {},
   "source": [
    "Applying to test_data"
   ]
  },
  {
   "cell_type": "code",
   "execution_count": 54,
   "metadata": {
    "collapsed": true
   },
   "outputs": [],
   "source": [
    "for_knn_traps = train_and_weather_[[\"Trap\", \"Latitude\", \"Longitude\"]].drop_duplicates()"
   ]
  },
  {
   "cell_type": "code",
   "execution_count": 56,
   "metadata": {
    "collapsed": false
   },
   "outputs": [
    {
     "data": {
      "text/html": [
       "<div>\n",
       "<table border=\"1\" class=\"dataframe\">\n",
       "  <thead>\n",
       "    <tr style=\"text-align: right;\">\n",
       "      <th></th>\n",
       "      <th>Latitude</th>\n",
       "      <th>Longitude</th>\n",
       "    </tr>\n",
       "    <tr>\n",
       "      <th>Trap</th>\n",
       "      <th></th>\n",
       "      <th></th>\n",
       "    </tr>\n",
       "  </thead>\n",
       "  <tbody>\n",
       "    <tr>\n",
       "      <th>T001</th>\n",
       "      <td>41.953705</td>\n",
       "      <td>-87.733974</td>\n",
       "    </tr>\n",
       "    <tr>\n",
       "      <th>T002</th>\n",
       "      <td>41.954690</td>\n",
       "      <td>-87.800991</td>\n",
       "    </tr>\n",
       "    <tr>\n",
       "      <th>T003</th>\n",
       "      <td>41.964242</td>\n",
       "      <td>-87.757639</td>\n",
       "    </tr>\n",
       "    <tr>\n",
       "      <th>T004</th>\n",
       "      <td>41.962728</td>\n",
       "      <td>-87.748367</td>\n",
       "    </tr>\n",
       "    <tr>\n",
       "      <th>T005</th>\n",
       "      <td>41.942114</td>\n",
       "      <td>-87.776385</td>\n",
       "    </tr>\n",
       "    <tr>\n",
       "      <th>T006</th>\n",
       "      <td>41.990284</td>\n",
       "      <td>-87.797127</td>\n",
       "    </tr>\n",
       "    <tr>\n",
       "      <th>T007</th>\n",
       "      <td>41.994991</td>\n",
       "      <td>-87.769279</td>\n",
       "    </tr>\n",
       "    <tr>\n",
       "      <th>T008</th>\n",
       "      <td>42.008314</td>\n",
       "      <td>-87.777921</td>\n",
       "    </tr>\n",
       "    <tr>\n",
       "      <th>T009</th>\n",
       "      <td>41.987221</td>\n",
       "      <td>-87.837911</td>\n",
       "    </tr>\n",
       "    <tr>\n",
       "      <th>T011</th>\n",
       "      <td>41.944869</td>\n",
       "      <td>-87.832763</td>\n",
       "    </tr>\n",
       "    <tr>\n",
       "      <th>T012</th>\n",
       "      <td>41.991429</td>\n",
       "      <td>-87.747113</td>\n",
       "    </tr>\n",
       "    <tr>\n",
       "      <th>T013</th>\n",
       "      <td>41.923738</td>\n",
       "      <td>-87.785288</td>\n",
       "    </tr>\n",
       "    <tr>\n",
       "      <th>T014</th>\n",
       "      <td>41.970248</td>\n",
       "      <td>-87.787992</td>\n",
       "    </tr>\n",
       "    <tr>\n",
       "      <th>T015</th>\n",
       "      <td>41.974089</td>\n",
       "      <td>-87.824812</td>\n",
       "    </tr>\n",
       "    <tr>\n",
       "      <th>T016</th>\n",
       "      <td>42.011601</td>\n",
       "      <td>-87.811506</td>\n",
       "    </tr>\n",
       "    <tr>\n",
       "      <th>T017</th>\n",
       "      <td>41.960616</td>\n",
       "      <td>-87.777189</td>\n",
       "    </tr>\n",
       "    <tr>\n",
       "      <th>T018</th>\n",
       "      <td>42.010412</td>\n",
       "      <td>-87.662140</td>\n",
       "    </tr>\n",
       "    <tr>\n",
       "      <th>T019</th>\n",
       "      <td>41.949830</td>\n",
       "      <td>-87.698457</td>\n",
       "    </tr>\n",
       "    <tr>\n",
       "      <th>T025</th>\n",
       "      <td>41.979243</td>\n",
       "      <td>-87.750938</td>\n",
       "    </tr>\n",
       "    <tr>\n",
       "      <th>T027</th>\n",
       "      <td>41.984809</td>\n",
       "      <td>-87.728492</td>\n",
       "    </tr>\n",
       "    <tr>\n",
       "      <th>T028</th>\n",
       "      <td>41.986921</td>\n",
       "      <td>-87.689778</td>\n",
       "    </tr>\n",
       "    <tr>\n",
       "      <th>T030</th>\n",
       "      <td>41.899230</td>\n",
       "      <td>-87.716788</td>\n",
       "    </tr>\n",
       "    <tr>\n",
       "      <th>T031</th>\n",
       "      <td>41.801498</td>\n",
       "      <td>-87.763416</td>\n",
       "    </tr>\n",
       "    <tr>\n",
       "      <th>T033</th>\n",
       "      <td>41.906638</td>\n",
       "      <td>-87.701431</td>\n",
       "    </tr>\n",
       "    <tr>\n",
       "      <th>T034</th>\n",
       "      <td>41.843811</td>\n",
       "      <td>-87.686763</td>\n",
       "    </tr>\n",
       "    <tr>\n",
       "      <th>T035</th>\n",
       "      <td>41.800189</td>\n",
       "      <td>-87.710019</td>\n",
       "    </tr>\n",
       "    <tr>\n",
       "      <th>T036</th>\n",
       "      <td>41.837085</td>\n",
       "      <td>-87.729384</td>\n",
       "    </tr>\n",
       "    <tr>\n",
       "      <th>T037</th>\n",
       "      <td>41.921177</td>\n",
       "      <td>-87.795180</td>\n",
       "    </tr>\n",
       "    <tr>\n",
       "      <th>T039</th>\n",
       "      <td>41.911824</td>\n",
       "      <td>-87.726737</td>\n",
       "    </tr>\n",
       "    <tr>\n",
       "      <th>T040</th>\n",
       "      <td>41.852652</td>\n",
       "      <td>-87.719887</td>\n",
       "    </tr>\n",
       "    <tr>\n",
       "      <th>T043</th>\n",
       "      <td>41.857402</td>\n",
       "      <td>-87.694991</td>\n",
       "    </tr>\n",
       "    <tr>\n",
       "      <th>T044</th>\n",
       "      <td>41.883284</td>\n",
       "      <td>-87.705085</td>\n",
       "    </tr>\n",
       "    <tr>\n",
       "      <th>T045</th>\n",
       "      <td>41.921600</td>\n",
       "      <td>-87.666455</td>\n",
       "    </tr>\n",
       "    <tr>\n",
       "      <th>T046</th>\n",
       "      <td>41.891118</td>\n",
       "      <td>-87.654491</td>\n",
       "    </tr>\n",
       "    <tr>\n",
       "      <th>T047</th>\n",
       "      <td>41.868142</td>\n",
       "      <td>-87.696269</td>\n",
       "    </tr>\n",
       "    <tr>\n",
       "      <th>T048</th>\n",
       "      <td>41.867108</td>\n",
       "      <td>-87.654224</td>\n",
       "    </tr>\n",
       "    <tr>\n",
       "      <th>T049</th>\n",
       "      <td>41.896282</td>\n",
       "      <td>-87.655232</td>\n",
       "    </tr>\n",
       "    <tr>\n",
       "      <th>T050</th>\n",
       "      <td>41.919343</td>\n",
       "      <td>-87.694259</td>\n",
       "    </tr>\n",
       "    <tr>\n",
       "      <th>T051</th>\n",
       "      <td>41.846283</td>\n",
       "      <td>-87.656913</td>\n",
       "    </tr>\n",
       "    <tr>\n",
       "      <th>T054</th>\n",
       "      <td>41.921965</td>\n",
       "      <td>-87.632085</td>\n",
       "    </tr>\n",
       "    <tr>\n",
       "      <th>T054C</th>\n",
       "      <td>41.925652</td>\n",
       "      <td>-87.633590</td>\n",
       "    </tr>\n",
       "    <tr>\n",
       "      <th>T060</th>\n",
       "      <td>41.823065</td>\n",
       "      <td>-87.678378</td>\n",
       "    </tr>\n",
       "    <tr>\n",
       "      <th>T061</th>\n",
       "      <td>41.801179</td>\n",
       "      <td>-87.679447</td>\n",
       "    </tr>\n",
       "    <tr>\n",
       "      <th>T062</th>\n",
       "      <td>41.800737</td>\n",
       "      <td>-87.711880</td>\n",
       "    </tr>\n",
       "    <tr>\n",
       "      <th>T063</th>\n",
       "      <td>41.825610</td>\n",
       "      <td>-87.726549</td>\n",
       "    </tr>\n",
       "    <tr>\n",
       "      <th>T065</th>\n",
       "      <td>41.778297</td>\n",
       "      <td>-87.752411</td>\n",
       "    </tr>\n",
       "    <tr>\n",
       "      <th>T066</th>\n",
       "      <td>41.771660</td>\n",
       "      <td>-87.703047</td>\n",
       "    </tr>\n",
       "    <tr>\n",
       "      <th>T067</th>\n",
       "      <td>41.759346</td>\n",
       "      <td>-87.745602</td>\n",
       "    </tr>\n",
       "    <tr>\n",
       "      <th>T069</th>\n",
       "      <td>41.768388</td>\n",
       "      <td>-87.678649</td>\n",
       "    </tr>\n",
       "    <tr>\n",
       "      <th>T070</th>\n",
       "      <td>41.797616</td>\n",
       "      <td>-87.797894</td>\n",
       "    </tr>\n",
       "    <tr>\n",
       "      <th>T071</th>\n",
       "      <td>41.781416</td>\n",
       "      <td>-87.776532</td>\n",
       "    </tr>\n",
       "    <tr>\n",
       "      <th>T072</th>\n",
       "      <td>41.747850</td>\n",
       "      <td>-87.702716</td>\n",
       "    </tr>\n",
       "    <tr>\n",
       "      <th>T073</th>\n",
       "      <td>41.773215</td>\n",
       "      <td>-87.600880</td>\n",
       "    </tr>\n",
       "    <tr>\n",
       "      <th>T074</th>\n",
       "      <td>41.822536</td>\n",
       "      <td>-87.666343</td>\n",
       "    </tr>\n",
       "    <tr>\n",
       "      <th>T075</th>\n",
       "      <td>41.799282</td>\n",
       "      <td>-87.585487</td>\n",
       "    </tr>\n",
       "    <tr>\n",
       "      <th>T076</th>\n",
       "      <td>41.794781</td>\n",
       "      <td>-87.615989</td>\n",
       "    </tr>\n",
       "    <tr>\n",
       "      <th>T077</th>\n",
       "      <td>41.778748</td>\n",
       "      <td>-87.586427</td>\n",
       "    </tr>\n",
       "    <tr>\n",
       "      <th>T078</th>\n",
       "      <td>41.775051</td>\n",
       "      <td>-87.655356</td>\n",
       "    </tr>\n",
       "    <tr>\n",
       "      <th>T079</th>\n",
       "      <td>41.766202</td>\n",
       "      <td>-87.562889</td>\n",
       "    </tr>\n",
       "    <tr>\n",
       "      <th>T080</th>\n",
       "      <td>41.754676</td>\n",
       "      <td>-87.612922</td>\n",
       "    </tr>\n",
       "    <tr>\n",
       "      <th>T081</th>\n",
       "      <td>41.821582</td>\n",
       "      <td>-87.627796</td>\n",
       "    </tr>\n",
       "    <tr>\n",
       "      <th>T082</th>\n",
       "      <td>41.803423</td>\n",
       "      <td>-87.642984</td>\n",
       "    </tr>\n",
       "    <tr>\n",
       "      <th>T083</th>\n",
       "      <td>41.754292</td>\n",
       "      <td>-87.590773</td>\n",
       "    </tr>\n",
       "    <tr>\n",
       "      <th>T084</th>\n",
       "      <td>41.692555</td>\n",
       "      <td>-87.598865</td>\n",
       "    </tr>\n",
       "    <tr>\n",
       "      <th>T085</th>\n",
       "      <td>41.721474</td>\n",
       "      <td>-87.648064</td>\n",
       "    </tr>\n",
       "    <tr>\n",
       "      <th>T086</th>\n",
       "      <td>41.688324</td>\n",
       "      <td>-87.676709</td>\n",
       "    </tr>\n",
       "    <tr>\n",
       "      <th>T088</th>\n",
       "      <td>41.869107</td>\n",
       "      <td>-87.696293</td>\n",
       "    </tr>\n",
       "    <tr>\n",
       "      <th>T089</th>\n",
       "      <td>41.723195</td>\n",
       "      <td>-87.649970</td>\n",
       "    </tr>\n",
       "    <tr>\n",
       "      <th>T090</th>\n",
       "      <td>41.868077</td>\n",
       "      <td>-87.666901</td>\n",
       "    </tr>\n",
       "    <tr>\n",
       "      <th>T091</th>\n",
       "      <td>41.862292</td>\n",
       "      <td>-87.648860</td>\n",
       "    </tr>\n",
       "    <tr>\n",
       "      <th>T092</th>\n",
       "      <td>41.869216</td>\n",
       "      <td>-87.627561</td>\n",
       "    </tr>\n",
       "    <tr>\n",
       "      <th>T094</th>\n",
       "      <td>41.720848</td>\n",
       "      <td>-87.666014</td>\n",
       "    </tr>\n",
       "    <tr>\n",
       "      <th>T094B</th>\n",
       "      <td>41.719140</td>\n",
       "      <td>-87.669539</td>\n",
       "    </tr>\n",
       "    <tr>\n",
       "      <th>T095</th>\n",
       "      <td>41.704336</td>\n",
       "      <td>-87.703736</td>\n",
       "    </tr>\n",
       "    <tr>\n",
       "      <th>T096</th>\n",
       "      <td>41.731922</td>\n",
       "      <td>-87.677512</td>\n",
       "    </tr>\n",
       "    <tr>\n",
       "      <th>T097</th>\n",
       "      <td>41.644612</td>\n",
       "      <td>-87.604498</td>\n",
       "    </tr>\n",
       "    <tr>\n",
       "      <th>T099</th>\n",
       "      <td>41.733643</td>\n",
       "      <td>-87.555510</td>\n",
       "    </tr>\n",
       "    <tr>\n",
       "      <th>T100</th>\n",
       "      <td>41.717753</td>\n",
       "      <td>-87.531657</td>\n",
       "    </tr>\n",
       "    <tr>\n",
       "      <th>T102</th>\n",
       "      <td>41.750498</td>\n",
       "      <td>-87.605294</td>\n",
       "    </tr>\n",
       "    <tr>\n",
       "      <th>T103</th>\n",
       "      <td>41.702724</td>\n",
       "      <td>-87.536497</td>\n",
       "    </tr>\n",
       "    <tr>\n",
       "      <th>T107</th>\n",
       "      <td>41.729669</td>\n",
       "      <td>-87.582699</td>\n",
       "    </tr>\n",
       "    <tr>\n",
       "      <th>T114</th>\n",
       "      <td>41.798697</td>\n",
       "      <td>-87.736812</td>\n",
       "    </tr>\n",
       "    <tr>\n",
       "      <th>T115</th>\n",
       "      <td>41.673408</td>\n",
       "      <td>-87.599862</td>\n",
       "    </tr>\n",
       "    <tr>\n",
       "      <th>T128</th>\n",
       "      <td>41.704572</td>\n",
       "      <td>-87.565666</td>\n",
       "    </tr>\n",
       "    <tr>\n",
       "      <th>T129</th>\n",
       "      <td>41.891126</td>\n",
       "      <td>-87.611560</td>\n",
       "    </tr>\n",
       "    <tr>\n",
       "      <th>T135</th>\n",
       "      <td>41.662014</td>\n",
       "      <td>-87.724608</td>\n",
       "    </tr>\n",
       "    <tr>\n",
       "      <th>T138</th>\n",
       "      <td>41.726465</td>\n",
       "      <td>-87.585413</td>\n",
       "    </tr>\n",
       "    <tr>\n",
       "      <th>T141</th>\n",
       "      <td>41.961743</td>\n",
       "      <td>-87.760070</td>\n",
       "    </tr>\n",
       "    <tr>\n",
       "      <th>T142</th>\n",
       "      <td>41.953067</td>\n",
       "      <td>-87.776792</td>\n",
       "    </tr>\n",
       "    <tr>\n",
       "      <th>T143</th>\n",
       "      <td>41.999129</td>\n",
       "      <td>-87.795585</td>\n",
       "    </tr>\n",
       "    <tr>\n",
       "      <th>T144</th>\n",
       "      <td>41.940160</td>\n",
       "      <td>-87.794896</td>\n",
       "    </tr>\n",
       "    <tr>\n",
       "      <th>T145</th>\n",
       "      <td>41.878114</td>\n",
       "      <td>-87.629798</td>\n",
       "    </tr>\n",
       "    <tr>\n",
       "      <th>T146</th>\n",
       "      <td>41.958271</td>\n",
       "      <td>-87.702575</td>\n",
       "    </tr>\n",
       "    <tr>\n",
       "      <th>T147</th>\n",
       "      <td>41.932094</td>\n",
       "      <td>-87.700117</td>\n",
       "    </tr>\n",
       "    <tr>\n",
       "      <th>T148</th>\n",
       "      <td>42.017430</td>\n",
       "      <td>-87.687769</td>\n",
       "    </tr>\n",
       "    <tr>\n",
       "      <th>T149</th>\n",
       "      <td>41.994469</td>\n",
       "      <td>-87.667736</td>\n",
       "    </tr>\n",
       "    <tr>\n",
       "      <th>T150</th>\n",
       "      <td>42.006858</td>\n",
       "      <td>-87.675919</td>\n",
       "    </tr>\n",
       "    <tr>\n",
       "      <th>T151</th>\n",
       "      <td>41.916265</td>\n",
       "      <td>-87.800515</td>\n",
       "    </tr>\n",
       "    <tr>\n",
       "      <th>T152</th>\n",
       "      <td>41.846075</td>\n",
       "      <td>-87.716277</td>\n",
       "    </tr>\n",
       "    <tr>\n",
       "      <th>T153</th>\n",
       "      <td>41.907645</td>\n",
       "      <td>-87.760886</td>\n",
       "    </tr>\n",
       "    <tr>\n",
       "      <th>T154</th>\n",
       "      <td>41.918705</td>\n",
       "      <td>-87.752329</td>\n",
       "    </tr>\n",
       "    <tr>\n",
       "      <th>T155</th>\n",
       "      <td>41.776156</td>\n",
       "      <td>-87.778927</td>\n",
       "    </tr>\n",
       "    <tr>\n",
       "      <th>T156</th>\n",
       "      <td>41.772846</td>\n",
       "      <td>-87.740029</td>\n",
       "    </tr>\n",
       "    <tr>\n",
       "      <th>T157</th>\n",
       "      <td>41.825902</td>\n",
       "      <td>-87.667827</td>\n",
       "    </tr>\n",
       "    <tr>\n",
       "      <th>T158</th>\n",
       "      <td>41.682587</td>\n",
       "      <td>-87.707973</td>\n",
       "    </tr>\n",
       "    <tr>\n",
       "      <th>T159</th>\n",
       "      <td>41.732984</td>\n",
       "      <td>-87.649642</td>\n",
       "    </tr>\n",
       "    <tr>\n",
       "      <th>T160</th>\n",
       "      <td>41.903002</td>\n",
       "      <td>-87.688267</td>\n",
       "    </tr>\n",
       "    <tr>\n",
       "      <th>T161</th>\n",
       "      <td>41.719059</td>\n",
       "      <td>-87.675088</td>\n",
       "    </tr>\n",
       "    <tr>\n",
       "      <th>T162</th>\n",
       "      <td>41.725517</td>\n",
       "      <td>-87.614258</td>\n",
       "    </tr>\n",
       "    <tr>\n",
       "      <th>T200</th>\n",
       "      <td>41.678618</td>\n",
       "      <td>-87.559308</td>\n",
       "    </tr>\n",
       "    <tr>\n",
       "      <th>T206</th>\n",
       "      <td>41.737052</td>\n",
       "      <td>-87.543067</td>\n",
       "    </tr>\n",
       "    <tr>\n",
       "      <th>T209</th>\n",
       "      <td>41.740641</td>\n",
       "      <td>-87.546587</td>\n",
       "    </tr>\n",
       "    <tr>\n",
       "      <th>T212</th>\n",
       "      <td>41.680946</td>\n",
       "      <td>-87.535198</td>\n",
       "    </tr>\n",
       "    <tr>\n",
       "      <th>T215</th>\n",
       "      <td>41.686398</td>\n",
       "      <td>-87.531635</td>\n",
       "    </tr>\n",
       "    <tr>\n",
       "      <th>T218</th>\n",
       "      <td>41.948167</td>\n",
       "      <td>-87.730698</td>\n",
       "    </tr>\n",
       "    <tr>\n",
       "      <th>T219</th>\n",
       "      <td>41.966987</td>\n",
       "      <td>-87.674677</td>\n",
       "    </tr>\n",
       "    <tr>\n",
       "      <th>T220</th>\n",
       "      <td>41.963976</td>\n",
       "      <td>-87.691810</td>\n",
       "    </tr>\n",
       "    <tr>\n",
       "      <th>T221</th>\n",
       "      <td>41.659112</td>\n",
       "      <td>-87.538693</td>\n",
       "    </tr>\n",
       "    <tr>\n",
       "      <th>T222</th>\n",
       "      <td>41.925198</td>\n",
       "      <td>-87.746381</td>\n",
       "    </tr>\n",
       "    <tr>\n",
       "      <th>T223</th>\n",
       "      <td>41.973845</td>\n",
       "      <td>-87.805059</td>\n",
       "    </tr>\n",
       "    <tr>\n",
       "      <th>T224</th>\n",
       "      <td>41.947227</td>\n",
       "      <td>-87.671457</td>\n",
       "    </tr>\n",
       "    <tr>\n",
       "      <th>T225</th>\n",
       "      <td>41.743402</td>\n",
       "      <td>-87.731435</td>\n",
       "    </tr>\n",
       "    <tr>\n",
       "      <th>T226</th>\n",
       "      <td>41.793818</td>\n",
       "      <td>-87.654234</td>\n",
       "    </tr>\n",
       "    <tr>\n",
       "      <th>T227</th>\n",
       "      <td>41.728495</td>\n",
       "      <td>-87.600963</td>\n",
       "    </tr>\n",
       "    <tr>\n",
       "      <th>T228</th>\n",
       "      <td>41.951866</td>\n",
       "      <td>-87.725057</td>\n",
       "    </tr>\n",
       "    <tr>\n",
       "      <th>T229</th>\n",
       "      <td>41.753411</td>\n",
       "      <td>-87.639817</td>\n",
       "    </tr>\n",
       "    <tr>\n",
       "      <th>T230</th>\n",
       "      <td>41.904194</td>\n",
       "      <td>-87.756155</td>\n",
       "    </tr>\n",
       "    <tr>\n",
       "      <th>T231</th>\n",
       "      <td>41.987280</td>\n",
       "      <td>-87.666066</td>\n",
       "    </tr>\n",
       "    <tr>\n",
       "      <th>T232</th>\n",
       "      <td>41.912563</td>\n",
       "      <td>-87.668055</td>\n",
       "    </tr>\n",
       "    <tr>\n",
       "      <th>T233</th>\n",
       "      <td>42.009876</td>\n",
       "      <td>-87.807277</td>\n",
       "    </tr>\n",
       "    <tr>\n",
       "      <th>T235</th>\n",
       "      <td>41.776428</td>\n",
       "      <td>-87.627096</td>\n",
       "    </tr>\n",
       "    <tr>\n",
       "      <th>T236</th>\n",
       "      <td>41.994679</td>\n",
       "      <td>-87.770899</td>\n",
       "    </tr>\n",
       "    <tr>\n",
       "      <th>T237</th>\n",
       "      <td>41.738903</td>\n",
       "      <td>-87.695443</td>\n",
       "    </tr>\n",
       "    <tr>\n",
       "      <th>T238</th>\n",
       "      <td>41.753391</td>\n",
       "      <td>-87.707394</td>\n",
       "    </tr>\n",
       "    <tr>\n",
       "      <th>T900</th>\n",
       "      <td>41.974689</td>\n",
       "      <td>-87.890615</td>\n",
       "    </tr>\n",
       "    <tr>\n",
       "      <th>T903</th>\n",
       "      <td>41.957799</td>\n",
       "      <td>-87.930995</td>\n",
       "    </tr>\n",
       "  </tbody>\n",
       "</table>\n",
       "</div>"
      ],
      "text/plain": [
       "        Latitude  Longitude\n",
       "Trap                       \n",
       "T001   41.953705 -87.733974\n",
       "T002   41.954690 -87.800991\n",
       "T003   41.964242 -87.757639\n",
       "T004   41.962728 -87.748367\n",
       "T005   41.942114 -87.776385\n",
       "T006   41.990284 -87.797127\n",
       "T007   41.994991 -87.769279\n",
       "T008   42.008314 -87.777921\n",
       "T009   41.987221 -87.837911\n",
       "T011   41.944869 -87.832763\n",
       "T012   41.991429 -87.747113\n",
       "T013   41.923738 -87.785288\n",
       "T014   41.970248 -87.787992\n",
       "T015   41.974089 -87.824812\n",
       "T016   42.011601 -87.811506\n",
       "T017   41.960616 -87.777189\n",
       "T018   42.010412 -87.662140\n",
       "T019   41.949830 -87.698457\n",
       "T025   41.979243 -87.750938\n",
       "T027   41.984809 -87.728492\n",
       "T028   41.986921 -87.689778\n",
       "T030   41.899230 -87.716788\n",
       "T031   41.801498 -87.763416\n",
       "T033   41.906638 -87.701431\n",
       "T034   41.843811 -87.686763\n",
       "T035   41.800189 -87.710019\n",
       "T036   41.837085 -87.729384\n",
       "T037   41.921177 -87.795180\n",
       "T039   41.911824 -87.726737\n",
       "T040   41.852652 -87.719887\n",
       "T043   41.857402 -87.694991\n",
       "T044   41.883284 -87.705085\n",
       "T045   41.921600 -87.666455\n",
       "T046   41.891118 -87.654491\n",
       "T047   41.868142 -87.696269\n",
       "T048   41.867108 -87.654224\n",
       "T049   41.896282 -87.655232\n",
       "T050   41.919343 -87.694259\n",
       "T051   41.846283 -87.656913\n",
       "T054   41.921965 -87.632085\n",
       "T054C  41.925652 -87.633590\n",
       "T060   41.823065 -87.678378\n",
       "T061   41.801179 -87.679447\n",
       "T062   41.800737 -87.711880\n",
       "T063   41.825610 -87.726549\n",
       "T065   41.778297 -87.752411\n",
       "T066   41.771660 -87.703047\n",
       "T067   41.759346 -87.745602\n",
       "T069   41.768388 -87.678649\n",
       "T070   41.797616 -87.797894\n",
       "T071   41.781416 -87.776532\n",
       "T072   41.747850 -87.702716\n",
       "T073   41.773215 -87.600880\n",
       "T074   41.822536 -87.666343\n",
       "T075   41.799282 -87.585487\n",
       "T076   41.794781 -87.615989\n",
       "T077   41.778748 -87.586427\n",
       "T078   41.775051 -87.655356\n",
       "T079   41.766202 -87.562889\n",
       "T080   41.754676 -87.612922\n",
       "T081   41.821582 -87.627796\n",
       "T082   41.803423 -87.642984\n",
       "T083   41.754292 -87.590773\n",
       "T084   41.692555 -87.598865\n",
       "T085   41.721474 -87.648064\n",
       "T086   41.688324 -87.676709\n",
       "T088   41.869107 -87.696293\n",
       "T089   41.723195 -87.649970\n",
       "T090   41.868077 -87.666901\n",
       "T091   41.862292 -87.648860\n",
       "T092   41.869216 -87.627561\n",
       "T094   41.720848 -87.666014\n",
       "T094B  41.719140 -87.669539\n",
       "T095   41.704336 -87.703736\n",
       "T096   41.731922 -87.677512\n",
       "T097   41.644612 -87.604498\n",
       "T099   41.733643 -87.555510\n",
       "T100   41.717753 -87.531657\n",
       "T102   41.750498 -87.605294\n",
       "T103   41.702724 -87.536497\n",
       "T107   41.729669 -87.582699\n",
       "T114   41.798697 -87.736812\n",
       "T115   41.673408 -87.599862\n",
       "T128   41.704572 -87.565666\n",
       "T129   41.891126 -87.611560\n",
       "T135   41.662014 -87.724608\n",
       "T138   41.726465 -87.585413\n",
       "T141   41.961743 -87.760070\n",
       "T142   41.953067 -87.776792\n",
       "T143   41.999129 -87.795585\n",
       "T144   41.940160 -87.794896\n",
       "T145   41.878114 -87.629798\n",
       "T146   41.958271 -87.702575\n",
       "T147   41.932094 -87.700117\n",
       "T148   42.017430 -87.687769\n",
       "T149   41.994469 -87.667736\n",
       "T150   42.006858 -87.675919\n",
       "T151   41.916265 -87.800515\n",
       "T152   41.846075 -87.716277\n",
       "T153   41.907645 -87.760886\n",
       "T154   41.918705 -87.752329\n",
       "T155   41.776156 -87.778927\n",
       "T156   41.772846 -87.740029\n",
       "T157   41.825902 -87.667827\n",
       "T158   41.682587 -87.707973\n",
       "T159   41.732984 -87.649642\n",
       "T160   41.903002 -87.688267\n",
       "T161   41.719059 -87.675088\n",
       "T162   41.725517 -87.614258\n",
       "T200   41.678618 -87.559308\n",
       "T206   41.737052 -87.543067\n",
       "T209   41.740641 -87.546587\n",
       "T212   41.680946 -87.535198\n",
       "T215   41.686398 -87.531635\n",
       "T218   41.948167 -87.730698\n",
       "T219   41.966987 -87.674677\n",
       "T220   41.963976 -87.691810\n",
       "T221   41.659112 -87.538693\n",
       "T222   41.925198 -87.746381\n",
       "T223   41.973845 -87.805059\n",
       "T224   41.947227 -87.671457\n",
       "T225   41.743402 -87.731435\n",
       "T226   41.793818 -87.654234\n",
       "T227   41.728495 -87.600963\n",
       "T228   41.951866 -87.725057\n",
       "T229   41.753411 -87.639817\n",
       "T230   41.904194 -87.756155\n",
       "T231   41.987280 -87.666066\n",
       "T232   41.912563 -87.668055\n",
       "T233   42.009876 -87.807277\n",
       "T235   41.776428 -87.627096\n",
       "T236   41.994679 -87.770899\n",
       "T237   41.738903 -87.695443\n",
       "T238   41.753391 -87.707394\n",
       "T900   41.974689 -87.890615\n",
       "T903   41.957799 -87.930995"
      ]
     },
     "execution_count": 56,
     "metadata": {},
     "output_type": "execute_result"
    }
   ],
   "source": [
    "for_knn_traps.pivot_table(index=\"Trap\",values=[\"Latitude\",\"Longitude\"])"
   ]
  },
  {
   "cell_type": "code",
   "execution_count": 67,
   "metadata": {
    "collapsed": false
   },
   "outputs": [
    {
     "name": "stdout",
     "output_type": "stream",
     "text": [
      "136\n",
      "138\n"
     ]
    }
   ],
   "source": [
    "print len(train_and_weather_.Trap.unique())\n",
    "print len(for_knn_traps)"
   ]
  },
  {
   "cell_type": "code",
   "execution_count": 50,
   "metadata": {
    "collapsed": false
   },
   "outputs": [
    {
     "ename": "TypeError",
     "evalue": "fit() takes exactly 3 arguments (2 given)",
     "output_type": "error",
     "traceback": [
      "\u001b[0;31m---------------------------------------------------------------------------\u001b[0m",
      "\u001b[0;31mTypeError\u001b[0m                                 Traceback (most recent call last)",
      "\u001b[0;32m<ipython-input-50-d3262c84062c>\u001b[0m in \u001b[0;36m<module>\u001b[0;34m()\u001b[0m\n\u001b[1;32m      1\u001b[0m \u001b[0mknn_traps\u001b[0m \u001b[0;34m=\u001b[0m \u001b[0mKNeighborsClassifier\u001b[0m\u001b[0;34m(\u001b[0m\u001b[0mn_neighbors\u001b[0m \u001b[0;34m=\u001b[0m \u001b[0;36m1\u001b[0m\u001b[0;34m)\u001b[0m\u001b[0;34m\u001b[0m\u001b[0m\n\u001b[0;32m----> 2\u001b[0;31m \u001b[0mmodel\u001b[0m \u001b[0;34m=\u001b[0m \u001b[0mknn_traps\u001b[0m\u001b[0;34m.\u001b[0m\u001b[0mfit\u001b[0m\u001b[0;34m(\u001b[0m\u001b[0mtrain\u001b[0m\u001b[0;34m[\u001b[0m\u001b[0;34m\"Trap\"\u001b[0m\u001b[0;34m]\u001b[0m\u001b[0;34m.\u001b[0m\u001b[0munique\u001b[0m\u001b[0;34m(\u001b[0m\u001b[0;34m)\u001b[0m\u001b[0;34m)\u001b[0m\u001b[0;34m\u001b[0m\u001b[0m\n\u001b[0m",
      "\u001b[0;31mTypeError\u001b[0m: fit() takes exactly 3 arguments (2 given)"
     ]
    }
   ],
   "source": [
    "knn_traps = KNeighborsClassifier(n_neighbors = 1)\n",
    "model = knn_traps.fit(,train[\"Trap\"].unique()) "
   ]
  },
  {
   "cell_type": "code",
   "execution_count": 46,
   "metadata": {
    "collapsed": false
   },
   "outputs": [],
   "source": [
    "trap_groups = test_and_weather_[[\"Trap\", \"Latitude\", \"Longitude\"]].groupby(by=\"Trap\")\n",
    "for trap in list(set(train.Trap).symmetric_difference(set(test.Trap))):\n",
    "    pred = model.predict(trap_groups.get_group(trap)[['Latitude','Longitude']])"
   ]
  },
  {
   "cell_type": "code",
   "execution_count": 35,
   "metadata": {
    "collapsed": true
   },
   "outputs": [],
   "source": [
    "test_w_preds= test_and_weather_.copy()"
   ]
  },
  {
   "cell_type": "code",
   "execution_count": 36,
   "metadata": {
    "collapsed": false
   },
   "outputs": [
    {
     "data": {
      "text/html": [
       "<div>\n",
       "<table border=\"1\" class=\"dataframe\">\n",
       "  <thead>\n",
       "    <tr style=\"text-align: right;\">\n",
       "      <th></th>\n",
       "      <th>Id</th>\n",
       "      <th>Species</th>\n",
       "      <th>Trap</th>\n",
       "      <th>Latitude</th>\n",
       "      <th>Longitude</th>\n",
       "      <th>AvgSpeed</th>\n",
       "      <th>Cool</th>\n",
       "      <th>Day_of_year</th>\n",
       "      <th>Depart</th>\n",
       "      <th>Heat</th>\n",
       "      <th>PrecipTotal</th>\n",
       "      <th>ResultDir</th>\n",
       "      <th>ResultSpeed</th>\n",
       "      <th>SeaLevel</th>\n",
       "      <th>StnPressure</th>\n",
       "      <th>Tavg</th>\n",
       "      <th>Tmax</th>\n",
       "      <th>Tmin</th>\n",
       "    </tr>\n",
       "  </thead>\n",
       "  <tbody>\n",
       "    <tr>\n",
       "      <th>0</th>\n",
       "      <td>1</td>\n",
       "      <td>CULEX PIPIENS/RESTUANS</td>\n",
       "      <td>T002</td>\n",
       "      <td>41.95469</td>\n",
       "      <td>-87.800991</td>\n",
       "      <td>10.0</td>\n",
       "      <td>9.0</td>\n",
       "      <td>163</td>\n",
       "      <td>7.0</td>\n",
       "      <td>0.0</td>\n",
       "      <td>0.0</td>\n",
       "      <td>18</td>\n",
       "      <td>8.9</td>\n",
       "      <td>29.99</td>\n",
       "      <td>29.28</td>\n",
       "      <td>74.0</td>\n",
       "      <td>86</td>\n",
       "      <td>61</td>\n",
       "    </tr>\n",
       "    <tr>\n",
       "      <th>1</th>\n",
       "      <td>2</td>\n",
       "      <td>CULEX RESTUANS</td>\n",
       "      <td>T002</td>\n",
       "      <td>41.95469</td>\n",
       "      <td>-87.800991</td>\n",
       "      <td>10.0</td>\n",
       "      <td>9.0</td>\n",
       "      <td>163</td>\n",
       "      <td>7.0</td>\n",
       "      <td>0.0</td>\n",
       "      <td>0.0</td>\n",
       "      <td>18</td>\n",
       "      <td>8.9</td>\n",
       "      <td>29.99</td>\n",
       "      <td>29.28</td>\n",
       "      <td>74.0</td>\n",
       "      <td>86</td>\n",
       "      <td>61</td>\n",
       "    </tr>\n",
       "    <tr>\n",
       "      <th>2</th>\n",
       "      <td>3</td>\n",
       "      <td>CULEX PIPIENS</td>\n",
       "      <td>T002</td>\n",
       "      <td>41.95469</td>\n",
       "      <td>-87.800991</td>\n",
       "      <td>10.0</td>\n",
       "      <td>9.0</td>\n",
       "      <td>163</td>\n",
       "      <td>7.0</td>\n",
       "      <td>0.0</td>\n",
       "      <td>0.0</td>\n",
       "      <td>18</td>\n",
       "      <td>8.9</td>\n",
       "      <td>29.99</td>\n",
       "      <td>29.28</td>\n",
       "      <td>74.0</td>\n",
       "      <td>86</td>\n",
       "      <td>61</td>\n",
       "    </tr>\n",
       "    <tr>\n",
       "      <th>3</th>\n",
       "      <td>4</td>\n",
       "      <td>CULEX SALINARIUS</td>\n",
       "      <td>T002</td>\n",
       "      <td>41.95469</td>\n",
       "      <td>-87.800991</td>\n",
       "      <td>10.0</td>\n",
       "      <td>9.0</td>\n",
       "      <td>163</td>\n",
       "      <td>7.0</td>\n",
       "      <td>0.0</td>\n",
       "      <td>0.0</td>\n",
       "      <td>18</td>\n",
       "      <td>8.9</td>\n",
       "      <td>29.99</td>\n",
       "      <td>29.28</td>\n",
       "      <td>74.0</td>\n",
       "      <td>86</td>\n",
       "      <td>61</td>\n",
       "    </tr>\n",
       "    <tr>\n",
       "      <th>4</th>\n",
       "      <td>5</td>\n",
       "      <td>CULEX TERRITANS</td>\n",
       "      <td>T002</td>\n",
       "      <td>41.95469</td>\n",
       "      <td>-87.800991</td>\n",
       "      <td>10.0</td>\n",
       "      <td>9.0</td>\n",
       "      <td>163</td>\n",
       "      <td>7.0</td>\n",
       "      <td>0.0</td>\n",
       "      <td>0.0</td>\n",
       "      <td>18</td>\n",
       "      <td>8.9</td>\n",
       "      <td>29.99</td>\n",
       "      <td>29.28</td>\n",
       "      <td>74.0</td>\n",
       "      <td>86</td>\n",
       "      <td>61</td>\n",
       "    </tr>\n",
       "  </tbody>\n",
       "</table>\n",
       "</div>"
      ],
      "text/plain": [
       "   Id                 Species  Trap  Latitude  Longitude  AvgSpeed  Cool  \\\n",
       "0   1  CULEX PIPIENS/RESTUANS  T002  41.95469 -87.800991      10.0   9.0   \n",
       "1   2          CULEX RESTUANS  T002  41.95469 -87.800991      10.0   9.0   \n",
       "2   3           CULEX PIPIENS  T002  41.95469 -87.800991      10.0   9.0   \n",
       "3   4        CULEX SALINARIUS  T002  41.95469 -87.800991      10.0   9.0   \n",
       "4   5         CULEX TERRITANS  T002  41.95469 -87.800991      10.0   9.0   \n",
       "\n",
       "   Day_of_year  Depart  Heat  PrecipTotal  ResultDir  ResultSpeed  SeaLevel  \\\n",
       "0          163     7.0   0.0          0.0         18          8.9     29.99   \n",
       "1          163     7.0   0.0          0.0         18          8.9     29.99   \n",
       "2          163     7.0   0.0          0.0         18          8.9     29.99   \n",
       "3          163     7.0   0.0          0.0         18          8.9     29.99   \n",
       "4          163     7.0   0.0          0.0         18          8.9     29.99   \n",
       "\n",
       "   StnPressure  Tavg  Tmax  Tmin  \n",
       "0        29.28  74.0    86    61  \n",
       "1        29.28  74.0    86    61  \n",
       "2        29.28  74.0    86    61  \n",
       "3        29.28  74.0    86    61  \n",
       "4        29.28  74.0    86    61  "
      ]
     },
     "execution_count": 36,
     "metadata": {},
     "output_type": "execute_result"
    }
   ],
   "source": [
    "test_w_preds.head()"
   ]
  },
  {
   "cell_type": "code",
   "execution_count": null,
   "metadata": {
    "collapsed": true
   },
   "outputs": [],
   "source": []
  },
  {
   "cell_type": "code",
   "execution_count": null,
   "metadata": {
    "collapsed": false
   },
   "outputs": [],
   "source": [
    "\"\"\"init_pred_knn = model_knn.predict(X_test[X_test.Species==])\"\"\""
   ]
  },
  {
   "cell_type": "code",
   "execution_count": null,
   "metadata": {
    "collapsed": false
   },
   "outputs": [],
   "source": [
    "\"\"\"submission = pd.DataFrame({'Id':test.Id,'WnvPresent':test.})\n",
    "submission.to_csv('init_sub.csv',index=False)\"\"\""
   ]
  },
  {
   "cell_type": "code",
   "execution_count": null,
   "metadata": {
    "collapsed": true
   },
   "outputs": [],
   "source": []
  }
 ],
 "metadata": {
  "anaconda-cloud": {},
  "kernelspec": {
   "display_name": "Python [default]",
   "language": "python",
   "name": "python2"
  },
  "language_info": {
   "codemirror_mode": {
    "name": "ipython",
    "version": 2
   },
   "file_extension": ".py",
   "mimetype": "text/x-python",
   "name": "python",
   "nbconvert_exporter": "python",
   "pygments_lexer": "ipython2",
   "version": "2.7.12"
  }
 },
 "nbformat": 4,
 "nbformat_minor": 0
}
